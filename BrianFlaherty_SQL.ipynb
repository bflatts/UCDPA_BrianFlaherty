{
  "nbformat": 4,
  "nbformat_minor": 0,
  "metadata": {
    "colab": {
      "provenance": [],
      "mount_file_id": "1O0gLj3qMNnokQR_8-JO4zcnFDbBBAl-T",
      "authorship_tag": "ABX9TyOElaPOlBLjP1hG/ygyBC3d",
      "include_colab_link": true
    },
    "kernelspec": {
      "name": "python3",
      "display_name": "Python 3"
    },
    "language_info": {
      "name": "python"
    }
  },
  "cells": [
    {
      "cell_type": "markdown",
      "metadata": {
        "id": "view-in-github",
        "colab_type": "text"
      },
      "source": [
        "<a href=\"https://colab.research.google.com/github/bflatts/UCDPA_BrianFlaherty/blob/main/BrianFlaherty_SQL.ipynb\" target=\"_parent\"><img src=\"https://colab.research.google.com/assets/colab-badge.svg\" alt=\"Open In Colab\"/></a>"
      ]
    },
    {
      "cell_type": "code",
      "execution_count": null,
      "metadata": {
        "id": "nt2Km6T-rP55"
      },
      "outputs": [],
      "source": [
        "# imports\n",
        "import pandas as pd\n",
        "import sqlite3"
      ]
    },
    {
      "cell_type": "code",
      "source": [
        "# Create multiple lists\n",
        "partFamilyLongDesc =  []\n",
        "manufacturer = []\n",
        "partSizeLongDesc = []\n",
        "shortDescription = []\n",
        "itemCode=[]\n",
        "\n",
        "\n",
        "columns=['PartFamilyLongDesc', 'Manufacturer', 'PartSizeLongDesc', 'ShortDescription', 'ItemCode']"
      ],
      "metadata": {
        "id": "fT990LdtrgDs"
      },
      "execution_count": null,
      "outputs": []
    },
    {
      "cell_type": "code",
      "source": [
        "# Variables\n",
        "DIR = '/content/drive/MyDrive/Colab Notebooks/'\n",
        "FILENAME = DIR + 'Sample.pcat'"
      ],
      "metadata": {
        "id": "RKtgmnzAst7N"
      },
      "execution_count": null,
      "outputs": []
    },
    {
      "cell_type": "code",
      "source": [
        "try:\n",
        "    # Connect to DB and create a cursor\n",
        "    sqliteConnection = sqlite3.connect(FILENAME)\n",
        "    cursor =sqliteConnection.cursor()\n",
        "    print('DB Init')\n",
        "\n",
        "    # Write a query and execute it with cursor\n",
        "    query = \"\"\"\n",
        "    SELECT\n",
        "    PartFamilyLongDesc, Manufacturer, PartSizeLongDesc, ShortDescription, ItemCode\n",
        "    FROM\n",
        "    EngineeringItems_PNP\n",
        "    \"\"\"\n",
        "    \n",
        "    cursor.execute(query)\n",
        "\n",
        "    # Fetch and output result\n",
        "    print(\"Collecting Data..\")\n",
        "    \n",
        "    result = cursor.fetchall()\n",
        "    for row in result:\n",
        "        myPartFamilyLongDesc, myManufacturer, myPartSizeLongDesc, myShortDescription, myItemCode = row\n",
        "        partFamilyLongDesc.append(myPartFamilyLongDesc)\n",
        "        manufacturer.append(myManufacturer)\n",
        "        partSizeLongDesc.append(myPartSizeLongDesc)\n",
        "        shortDescription.append(myShortDescription)\n",
        "        itemCode.append(myItemCode)\n",
        "        #print(row)\n",
        "    \n",
        "    sqliteConnection.commit()\n",
        "\n",
        "    # Close the cursor\n",
        "    cursor.close()\n",
        "    \n",
        "    # Close the connection\n",
        "    sqliteConnection.close()\n",
        "    \n",
        "# Handle errors\n",
        "except sqlite3.Error as error:\n",
        "    print('Error occured - ', error)\n",
        "\n",
        "    \n",
        "# Close DB Connection irrespective of success\n",
        "# or failure\n",
        "finally:\n",
        "    \n",
        "    if sqliteConnection:\n",
        "        sqliteConnection.close()\n",
        "        print('SQLite Connection closed')\n",
        "    "
      ],
      "metadata": {
        "colab": {
          "base_uri": "https://localhost:8080/"
        },
        "id": "k8k6U46xrjKt",
        "outputId": "5e4ee0bd-2c14-4f32-f4f6-2bf972c03d77"
      },
      "execution_count": null,
      "outputs": [
        {
          "output_type": "stream",
          "name": "stdout",
          "text": [
            "DB Init\n",
            "Collecting Data..\n",
            "SQLite Connection closed\n"
          ]
        }
      ]
    },
    {
      "cell_type": "code",
      "source": [
        "# Create DataFrame from multiple lists\n",
        "df = pd.DataFrame(list(zip(partFamilyLongDesc,manufacturer,partSizeLongDesc,shortDescription, itemCode)), columns=columns)\n",
        "#print(df)"
      ],
      "metadata": {
        "id": "ERn-xGrqrl1U"
      },
      "execution_count": null,
      "outputs": []
    },
    {
      "cell_type": "code",
      "source": [
        "# Write DataFrame to Excel file\n",
        "df.to_csv(DIR + 'Export.csv')"
      ],
      "metadata": {
        "id": "wI0E_D5Croto"
      },
      "execution_count": null,
      "outputs": []
    }
  ]
}