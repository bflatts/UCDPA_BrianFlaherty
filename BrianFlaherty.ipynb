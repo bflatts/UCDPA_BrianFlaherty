{
  "cells": [
    {
      "cell_type": "markdown",
      "metadata": {
        "id": "view-in-github",
        "colab_type": "text"
      },
      "source": [
        "<a href=\"https://colab.research.google.com/github/bflatts/UCDPA_BrianFlaherty/blob/main/BrianFlaherty.ipynb\" target=\"_parent\"><img src=\"https://colab.research.google.com/assets/colab-badge.svg\" alt=\"Open In Colab\"/></a>"
      ]
    },
    {
      "cell_type": "markdown",
      "source": [
        "# Final Assignment"
      ],
      "metadata": {
        "id": "HZup4oUHnPKT"
      },
      "id": "HZup4oUHnPKT"
    },
    {
      "cell_type": "markdown",
      "source": [
        "## GitHub:\n",
        "https://github.com/bflatts/UCDPA_BrianFlaherty.git"
      ],
      "metadata": {
        "id": "o5_3UTLRgmHW"
      },
      "id": "o5_3UTLRgmHW"
    },
    {
      "cell_type": "markdown",
      "source": [
        "## Abstract:\n",
        "The application is intended to identify table names and subsequent  data from the tables from an Autodesk Plant 3D catalogue file. (i.e. a .pcat file.). Once the user has chosen a file the application will then identify the table names from within and will print them to a CSV file located in the CVS directory. As the data contained within these pcat files isn't interesting, I also imported data from Kaggle. <br>"
      ],
      "metadata": {
        "id": "TV2FzxMhnUi3"
      },
      "id": "TV2FzxMhnUi3"
    },
    {
      "cell_type": "markdown",
      "source": [
        "## Introduction:\n",
        "The pcat files are SQLite files used as engineering catalogues for the creation of 3D design & construction models.<br>\n",
        "The files effectively contain a library of engineering parts, e.g., valves, dampers, fittings, piping, etc. This project was chosen as a first step in creating an application that can extract combinations of information from these catalogues and hopefully allow quick manipulation of the information within.<br>\n",
        "Each catalogue is intended to be a mirror of a real-world manufacturer's catalogue. <br> \n",
        "Construction engineers use information within the catalogues (pcat files) to facilitate cost saving exercises such as offsite manufacturing and purchasing negotiations. Having a quick way of accessing the data from these files will save countless hours for the companies working with this application.<br>\n",
        "The content of these files is very boring and the information that can be gathered is limited. Due to this limitation I opted to introduce a data source from the internet.<br>\n",
        "The data chosen was the NASA exoplanet data, the source url can be found below (in Datasets).<br>\n",
        "The NASA Exoplanet dataset was chosen because everything to do with space is awesome.<br>\n",
        "The csv file contains information on all known exoplanets (planets outside our solar system) discovered by NASA's various space missions, ground-based observatories, and other sources. The dataset includes information such as the planet's name, mass, radius, distance from its host star, orbital period, and other physical characteristics. The dataset also includes information on the host star, such as its name, mass, and radius.<br>\n"
      ],
      "metadata": {
        "id": "LdfqQ5R6nWQ7"
      },
      "id": "LdfqQ5R6nWQ7"
    },
    {
      "cell_type": "markdown",
      "source": [
        "## Datasets\n",
        "The datasets chosen for the project are:<br>\n",
        "'sample.pcat' - A work related source.<br>\n",
        "Is a SQLite file used with a 3D modelling package called Autodesk Plant 3D <br>\n",
        "and<br>\n",
        "'NASA Exoplanets' - Sourced online from Kaggle <br>\n",
        "'https://www.kaggle.com/datasets/arashnic/exoplanets'.<br>\n"
      ],
      "metadata": {
        "id": "yRbSpQ3wnqG7"
      },
      "id": "yRbSpQ3wnqG7"
    },
    {
      "cell_type": "markdown",
      "source": [
        "## Implementation Process: (Sample.pcat)"
      ],
      "metadata": {
        "id": "GC1vy8oPn5O8"
      },
      "id": "GC1vy8oPn5O8"
    },
    {
      "cell_type": "markdown",
      "source": [
        "### Imports:\n",
        "The libraries used for this project were pandas, sqlite3, numpy, and matplotlib.<br> \n",
        "Panadas for capturing the output as a data frame and pushing that to a csv file.<br>\n",
        "Sqlite3 for accessing the pcat files. (pcats are SQLite files)<br>\n",
        "matplotlib for visualizing the data and plotting results.<br>"
      ],
      "metadata": {
        "id": "KRZwpoOEoF3P"
      },
      "id": "KRZwpoOEoF3P"
    },
    {
      "cell_type": "code",
      "execution_count": 53,
      "id": "50e1a0af-c86c-4274-9045-76d0b36c7de6",
      "metadata": {
        "id": "50e1a0af-c86c-4274-9045-76d0b36c7de6"
      },
      "outputs": [],
      "source": [
        "# Imports\n",
        "import pandas as pd\n",
        "import sqlite3\n",
        "import matplotlib.pyplot as plt\n",
        "import numpy as np"
      ]
    },
    {
      "cell_type": "markdown",
      "source": [
        "### Custom Database class:\n",
        "This is a custom class. I hope to use this database connector class again with my next steps for this project.<br> "
      ],
      "metadata": {
        "id": "CHDYxjY0tLFN"
      },
      "id": "CHDYxjY0tLFN"
    },
    {
      "cell_type": "code",
      "execution_count": 2,
      "id": "125eda57",
      "metadata": {
        "id": "125eda57"
      },
      "outputs": [],
      "source": [
        "# Custom Database class [1, carusot42]\n",
        "\n",
        "class Database:\n",
        "    \"\"\"Custom class to connect to SQLite\"\"\"\n",
        "    def __init__(self, name):\n",
        "        self._conn = sqlite3.connect(name)\n",
        "        self._cursor = self._conn.cursor()\n",
        "\n",
        "    def __enter__(self):\n",
        "        return self\n",
        "\n",
        "    def __exit__(self, exc_type, exc_val, exc_tb):\n",
        "        self.close()\n",
        "\n",
        "    @property\n",
        "    def connection(self):\n",
        "        return self._conn\n",
        "\n",
        "    @property\n",
        "    def cursor(self):\n",
        "        return self._cursor\n",
        "\n",
        "    def commit(self):\n",
        "        self.connection.commit()\n",
        "\n",
        "    def close(self, commit=True):\n",
        "        if commit:\n",
        "            self.commit()\n",
        "        self.connection.close()\n",
        "\n",
        "    def execute(self, sql, params=None):\n",
        "        self.cursor.execute(sql, params or ())\n",
        "\n",
        "    def fetchall(self):\n",
        "        return self.cursor.fetchall()\n",
        "\n",
        "    def fetchone(self):\n",
        "        return self.cursor.fetchone()\n",
        "\n",
        "    def query(self, sql, params=None):\n",
        "        self.cursor.execute(sql, params or ())\n",
        "        return self.fetchall()"
      ]
    },
    {
      "cell_type": "markdown",
      "source": [
        "### Variables:\n",
        "Variables that needed to be created for the different operations thoughtout the project.<br>\n",
        "I hope to automate some of these in the future allowing the user some flexibility using tkinter.<br> "
      ],
      "metadata": {
        "id": "hDeCsPiitiYl"
      },
      "id": "hDeCsPiitiYl"
    },
    {
      "cell_type": "code",
      "execution_count": 3,
      "id": "849c61e5-4c5e-4850-ad07-b66b079bdff9",
      "metadata": {
        "id": "849c61e5-4c5e-4850-ad07-b66b079bdff9"
      },
      "outputs": [],
      "source": [
        "#Varibles\n",
        "\n",
        "# Create empty list to store table names\n",
        "table_names =  []\n",
        "\n",
        "# Create list to hold Column name(s)\n",
        "columns=['Table Names']\n",
        "\n",
        "# Fixed variables, path , subpath, and output\n",
        "#PATH = \"C:\\\\Users\\\\bflat\\\\P3D_Automation\\\\\"\n",
        "SUBPATH = \"/content/drive/MyDrive/Colab Notebooks/CSV/\"\n",
        "OUTPUT = \"TableNames.csv\" \n",
        "\n",
        "# filename\n",
        "filename = \"sample.pcat\"\n",
        "nasaFilename = \"cleaned_5250.csv\"\n",
        "\n",
        "# Write a query and execute it with cursor\n",
        "query = \"\"\"\n",
        "SELECT name FROM sqlite_master\n",
        "WHERE type='table'\n",
        "\"\"\""
      ]
    },
    {
      "cell_type": "markdown",
      "source": [
        "### Convert Tuple:\n",
        "Fucntion that converts tuples to strings<br>"
      ],
      "metadata": {
        "id": "jrSPXt5et46j"
      },
      "id": "jrSPXt5et46j"
    },
    {
      "cell_type": "code",
      "execution_count": 4,
      "id": "9f501b76-a587-4c9f-bcd1-89741c90d14f",
      "metadata": {
        "id": "9f501b76-a587-4c9f-bcd1-89741c90d14f"
      },
      "outputs": [],
      "source": [
        "def convertTuple(tup):\n",
        "    \"\"\"Function convert Tuples to strings\"\"\"\n",
        "    str = ''   # initialize an empty string\n",
        "    for item in tup:\n",
        "        str = str + item\n",
        "    return str"
      ]
    },
    {
      "cell_type": "markdown",
      "source": [
        "### Connect to DB:\n",
        "Connect to my SQLite file using custom class.<br>\n",
        "Getting the data, saving it to variable as a string.<br>\n",
        "Originally, I had this a straight simple code, but rewrote to include the custom class.<br>\n",
        "As mentioned, I intend to reuse this class and code. <br>"
      ],
      "metadata": {
        "id": "7N5f5C1-uKsN"
      },
      "id": "7N5f5C1-uKsN"
    },
    {
      "cell_type": "code",
      "execution_count": 5,
      "id": "5fc96e65-837f-4fa5-8088-0b04c0773f81",
      "metadata": {
        "colab": {
          "base_uri": "https://localhost:8080/"
        },
        "id": "5fc96e65-837f-4fa5-8088-0b04c0773f81",
        "outputId": "806cec8d-709b-43c2-f87d-6cd9c758a070"
      },
      "outputs": [
        {
          "output_type": "stream",
          "name": "stdout",
          "text": [
            "..Collecting Data..\n",
            "..Data Collected..\n"
          ]
        }
      ],
      "source": [
        "# Connect to DB\n",
        "try:\n",
        "    # Connect to DB and create a cursor\n",
        "\n",
        "    with Database(filename) as db:\n",
        "        db.execute(query)\n",
        "\n",
        "        print(\"..Collecting Data..\")\n",
        " \n",
        "        result = db.fetchall()\n",
        "        for row in result:\n",
        "            name = convertTuple(row)\n",
        "            table_names.append(name)\n",
        "            #print(name)\n",
        "        \n",
        "        print(\"..Data Collected..\")\n",
        "\n",
        "# Handle errors\n",
        "except sqlite3.Error as error:\n",
        "    print('Error occured - ', error)\n",
        "\n",
        "   "
      ]
    },
    {
      "cell_type": "markdown",
      "source": [
        "### Pandas Dataframe:\n",
        "Create the Pandas Dataframe.<br>"
      ],
      "metadata": {
        "id": "B2vmZSqwudhO"
      },
      "id": "B2vmZSqwudhO"
    },
    {
      "cell_type": "code",
      "execution_count": 6,
      "id": "771c12c5-e91e-41be-83e9-cc3f52a6fee7",
      "metadata": {
        "id": "771c12c5-e91e-41be-83e9-cc3f52a6fee7"
      },
      "outputs": [],
      "source": [
        "# Pandas Dataframe\n",
        "df = pd.DataFrame(data=table_names, columns=columns)\n",
        "#print(df)"
      ]
    },
    {
      "cell_type": "markdown",
      "source": [
        "### Mount Google Drive:\n",
        "Mount google drive to write csv file.<br>"
      ],
      "metadata": {
        "id": "MT2g1C_NunDa"
      },
      "id": "MT2g1C_NunDa"
    },
    {
      "cell_type": "code",
      "source": [
        "from google.colab import drive\n",
        "drive.mount('/content/drive')"
      ],
      "metadata": {
        "colab": {
          "base_uri": "https://localhost:8080/"
        },
        "id": "SaLR86Mq6aXk",
        "outputId": "ae43f056-0900-4e0d-aea0-97215f897540"
      },
      "id": "SaLR86Mq6aXk",
      "execution_count": 7,
      "outputs": [
        {
          "output_type": "stream",
          "name": "stdout",
          "text": [
            "Mounted at /content/drive\n"
          ]
        }
      ]
    },
    {
      "cell_type": "markdown",
      "source": [
        "### Write to CSV:\n",
        "Write Pandas Dataframe to CSV.<br>"
      ],
      "metadata": {
        "id": "SZ2qi21su6N6"
      },
      "id": "SZ2qi21su6N6"
    },
    {
      "cell_type": "code",
      "execution_count": 8,
      "id": "e246de3f-bfab-4185-ac8b-5f242b7b6774",
      "metadata": {
        "id": "e246de3f-bfab-4185-ac8b-5f242b7b6774"
      },
      "outputs": [],
      "source": [
        "# Write DataFrame to Excel file\n",
        "df.to_csv(SUBPATH+OUTPUT,index=False)\n"
      ]
    },
    {
      "cell_type": "markdown",
      "source": [
        "## Implementation Process: (NASA Exoplantes)\n",
        "From here we read in the exoplanets data, this is due to the boring nature of the original SQLite data from Autodesks application 'Pland 3D'<br>"
      ],
      "metadata": {
        "id": "eiydCYUgvIoZ"
      },
      "id": "eiydCYUgvIoZ"
    },
    {
      "cell_type": "markdown",
      "source": [
        "### Read CSV:\n",
        "Read csv file to Pandas Dataframe.<br>"
      ],
      "metadata": {
        "id": "zLfJ7ZoqvSK2"
      },
      "id": "zLfJ7ZoqvSK2"
    },
    {
      "cell_type": "code",
      "execution_count": 9,
      "id": "a7355775",
      "metadata": {
        "id": "a7355775"
      },
      "outputs": [],
      "source": [
        "# Reading file\n",
        "nasa_df = pd.read_csv(\"/content/drive/MyDrive/Colab Notebooks/\"+nasaFilename, header = 0)"
      ]
    },
    {
      "cell_type": "markdown",
      "source": [
        "### Sorting:\n",
        "Sorts dataset by distance, and prints out the first 5 names.<br>"
      ],
      "metadata": {
        "id": "rGtP8GfAvqk-"
      },
      "id": "rGtP8GfAvqk-"
    },
    {
      "cell_type": "code",
      "execution_count": 10,
      "id": "eafb2aa8",
      "metadata": {
        "colab": {
          "base_uri": "https://localhost:8080/"
        },
        "id": "eafb2aa8",
        "outputId": "be14b9b9-9fe7-4964-90e4-789e4577f40d"
      },
      "outputs": [
        {
          "output_type": "stream",
          "name": "stdout",
          "text": [
            "The furtheset 5 exoplanets from the sun are:\n",
            "                 name\n",
            "           SWEEPS-4 b\n",
            "          SWEEPS-11 b\n",
            " KMT-2021-BLG-1077L b\n",
            " KMT-2021-BLG-1077L c\n",
            "OGLE-2015-BLG-0051L b\n"
          ]
        }
      ],
      "source": [
        "# Sorting\n",
        "number_to_print = 5\n",
        "\n",
        "print(f'The furtheset {number_to_print} exoplanets from the sun are:')          #Prints a note\n",
        "farthest_from_sun = nasa_df.sort_values('distance', ascending=False )           #sorts the dataset by distance\n",
        "print(farthest_from_sun[['name']].head(number_to_print).to_string(index=False)) #prints out the first number of names\n",
        "\n"
      ]
    },
    {
      "cell_type": "markdown",
      "source": [
        "### Indexing:\n",
        "Set the 'name' column as the dataset index, and print the 'distance' and 'planet_type' columns noting the name is now the index.<br>"
      ],
      "metadata": {
        "id": "7J4s9Rm6wCWq"
      },
      "id": "7J4s9Rm6wCWq"
    },
    {
      "cell_type": "code",
      "execution_count": 11,
      "id": "5b60b2c5",
      "metadata": {
        "colab": {
          "base_uri": "https://localhost:8080/"
        },
        "id": "5b60b2c5",
        "outputId": "b6f6b6fe-fa80-4bee-eee3-32dadf6832e1"
      },
      "outputs": [
        {
          "output_type": "stream",
          "name": "stdout",
          "text": [
            "                      distance planet_type\n",
            "name                                      \n",
            "11 Comae Berenices b     304.0   Gas Giant\n",
            "11 Ursae Minoris b       409.0   Gas Giant\n",
            "14 Andromedae b          246.0   Gas Giant\n",
            "14 Herculis b             58.0   Gas Giant\n",
            "16 Cygni B b              69.0   Gas Giant\n"
          ]
        }
      ],
      "source": [
        "# Indexing\n",
        "nasa_df_ind = nasa_df.set_index('name')                                         #Set the name column as the dataset index\n",
        "print(nasa_df_ind[['distance','planet_type']].head())                           #print the distance and planet_type, noting the index is now name"
      ]
    },
    {
      "cell_type": "markdown",
      "source": [
        "### Grouping:\n",
        "Group the data by 'planet_type' and aggregate the min, max and mean for the radius multiplier.<br>"
      ],
      "metadata": {
        "id": "Ddr_z1rBwbdf"
      },
      "id": "Ddr_z1rBwbdf"
    },
    {
      "cell_type": "code",
      "execution_count": 12,
      "id": "dcc002db",
      "metadata": {
        "colab": {
          "base_uri": "https://localhost:8080/",
          "height": 255
        },
        "id": "dcc002db",
        "outputId": "76669ec1-f6f3-4e54-b313-9d611e34cf4f"
      },
      "outputs": [
        {
          "output_type": "stream",
          "name": "stdout",
          "text": [
            "Table showing smallest, largest, and avergage planet size per planet type\n"
          ]
        },
        {
          "output_type": "execute_result",
          "data": {
            "text/plain": [
              "                min    max      mean\n",
              "planet_type                         \n",
              "Gas Giant     0.225  6.900  1.160728\n",
              "Neptune-like  0.200  2.233  0.493737\n",
              "Super Earth   0.201  2.230  1.487342\n",
              "Terrestrial   0.259  1.800  0.824062\n",
              "Unknown         NaN    NaN       NaN"
            ],
            "text/html": [
              "\n",
              "  <div id=\"df-d3d93132-728a-4ad0-bcd8-9e29de2be6b5\">\n",
              "    <div class=\"colab-df-container\">\n",
              "      <div>\n",
              "<style scoped>\n",
              "    .dataframe tbody tr th:only-of-type {\n",
              "        vertical-align: middle;\n",
              "    }\n",
              "\n",
              "    .dataframe tbody tr th {\n",
              "        vertical-align: top;\n",
              "    }\n",
              "\n",
              "    .dataframe thead th {\n",
              "        text-align: right;\n",
              "    }\n",
              "</style>\n",
              "<table border=\"1\" class=\"dataframe\">\n",
              "  <thead>\n",
              "    <tr style=\"text-align: right;\">\n",
              "      <th></th>\n",
              "      <th>min</th>\n",
              "      <th>max</th>\n",
              "      <th>mean</th>\n",
              "    </tr>\n",
              "    <tr>\n",
              "      <th>planet_type</th>\n",
              "      <th></th>\n",
              "      <th></th>\n",
              "      <th></th>\n",
              "    </tr>\n",
              "  </thead>\n",
              "  <tbody>\n",
              "    <tr>\n",
              "      <th>Gas Giant</th>\n",
              "      <td>0.225</td>\n",
              "      <td>6.900</td>\n",
              "      <td>1.160728</td>\n",
              "    </tr>\n",
              "    <tr>\n",
              "      <th>Neptune-like</th>\n",
              "      <td>0.200</td>\n",
              "      <td>2.233</td>\n",
              "      <td>0.493737</td>\n",
              "    </tr>\n",
              "    <tr>\n",
              "      <th>Super Earth</th>\n",
              "      <td>0.201</td>\n",
              "      <td>2.230</td>\n",
              "      <td>1.487342</td>\n",
              "    </tr>\n",
              "    <tr>\n",
              "      <th>Terrestrial</th>\n",
              "      <td>0.259</td>\n",
              "      <td>1.800</td>\n",
              "      <td>0.824062</td>\n",
              "    </tr>\n",
              "    <tr>\n",
              "      <th>Unknown</th>\n",
              "      <td>NaN</td>\n",
              "      <td>NaN</td>\n",
              "      <td>NaN</td>\n",
              "    </tr>\n",
              "  </tbody>\n",
              "</table>\n",
              "</div>\n",
              "      <button class=\"colab-df-convert\" onclick=\"convertToInteractive('df-d3d93132-728a-4ad0-bcd8-9e29de2be6b5')\"\n",
              "              title=\"Convert this dataframe to an interactive table.\"\n",
              "              style=\"display:none;\">\n",
              "        \n",
              "  <svg xmlns=\"http://www.w3.org/2000/svg\" height=\"24px\"viewBox=\"0 0 24 24\"\n",
              "       width=\"24px\">\n",
              "    <path d=\"M0 0h24v24H0V0z\" fill=\"none\"/>\n",
              "    <path d=\"M18.56 5.44l.94 2.06.94-2.06 2.06-.94-2.06-.94-.94-2.06-.94 2.06-2.06.94zm-11 1L8.5 8.5l.94-2.06 2.06-.94-2.06-.94L8.5 2.5l-.94 2.06-2.06.94zm10 10l.94 2.06.94-2.06 2.06-.94-2.06-.94-.94-2.06-.94 2.06-2.06.94z\"/><path d=\"M17.41 7.96l-1.37-1.37c-.4-.4-.92-.59-1.43-.59-.52 0-1.04.2-1.43.59L10.3 9.45l-7.72 7.72c-.78.78-.78 2.05 0 2.83L4 21.41c.39.39.9.59 1.41.59.51 0 1.02-.2 1.41-.59l7.78-7.78 2.81-2.81c.8-.78.8-2.07 0-2.86zM5.41 20L4 18.59l7.72-7.72 1.47 1.35L5.41 20z\"/>\n",
              "  </svg>\n",
              "      </button>\n",
              "      \n",
              "  <style>\n",
              "    .colab-df-container {\n",
              "      display:flex;\n",
              "      flex-wrap:wrap;\n",
              "      gap: 12px;\n",
              "    }\n",
              "\n",
              "    .colab-df-convert {\n",
              "      background-color: #E8F0FE;\n",
              "      border: none;\n",
              "      border-radius: 50%;\n",
              "      cursor: pointer;\n",
              "      display: none;\n",
              "      fill: #1967D2;\n",
              "      height: 32px;\n",
              "      padding: 0 0 0 0;\n",
              "      width: 32px;\n",
              "    }\n",
              "\n",
              "    .colab-df-convert:hover {\n",
              "      background-color: #E2EBFA;\n",
              "      box-shadow: 0px 1px 2px rgba(60, 64, 67, 0.3), 0px 1px 3px 1px rgba(60, 64, 67, 0.15);\n",
              "      fill: #174EA6;\n",
              "    }\n",
              "\n",
              "    [theme=dark] .colab-df-convert {\n",
              "      background-color: #3B4455;\n",
              "      fill: #D2E3FC;\n",
              "    }\n",
              "\n",
              "    [theme=dark] .colab-df-convert:hover {\n",
              "      background-color: #434B5C;\n",
              "      box-shadow: 0px 1px 3px 1px rgba(0, 0, 0, 0.15);\n",
              "      filter: drop-shadow(0px 1px 2px rgba(0, 0, 0, 0.3));\n",
              "      fill: #FFFFFF;\n",
              "    }\n",
              "  </style>\n",
              "\n",
              "      <script>\n",
              "        const buttonEl =\n",
              "          document.querySelector('#df-d3d93132-728a-4ad0-bcd8-9e29de2be6b5 button.colab-df-convert');\n",
              "        buttonEl.style.display =\n",
              "          google.colab.kernel.accessAllowed ? 'block' : 'none';\n",
              "\n",
              "        async function convertToInteractive(key) {\n",
              "          const element = document.querySelector('#df-d3d93132-728a-4ad0-bcd8-9e29de2be6b5');\n",
              "          const dataTable =\n",
              "            await google.colab.kernel.invokeFunction('convertToInteractive',\n",
              "                                                     [key], {});\n",
              "          if (!dataTable) return;\n",
              "\n",
              "          const docLinkHtml = 'Like what you see? Visit the ' +\n",
              "            '<a target=\"_blank\" href=https://colab.research.google.com/notebooks/data_table.ipynb>data table notebook</a>'\n",
              "            + ' to learn more about interactive tables.';\n",
              "          element.innerHTML = '';\n",
              "          dataTable['output_type'] = 'display_data';\n",
              "          await google.colab.output.renderOutput(dataTable, element);\n",
              "          const docLink = document.createElement('div');\n",
              "          docLink.innerHTML = docLinkHtml;\n",
              "          element.appendChild(docLink);\n",
              "        }\n",
              "      </script>\n",
              "    </div>\n",
              "  </div>\n",
              "  "
            ]
          },
          "metadata": {},
          "execution_count": 12
        }
      ],
      "source": [
        "# Grouping\n",
        "print('Table showing smallest, largest, and avergage planet size per planet type')#Prints a note\n",
        "nasa_df.groupby('planet_type')['radius_multiplier'].agg(['min', 'max', 'mean'])    #Group the data by planet_type and aggregate the min, max and mean for the radius multiplier"
      ]
    },
    {
      "cell_type": "markdown",
      "source": [
        "### Duplication and missing values check:\n",
        "We carry out this exercies to show our dataset doesnt have any duplication nor does it have any missing values.<br>"
      ],
      "metadata": {
        "id": "71PnXv4ex0ky"
      },
      "id": "71PnXv4ex0ky"
    },
    {
      "cell_type": "code",
      "execution_count": 13,
      "id": "64b542c2",
      "metadata": {
        "colab": {
          "base_uri": "https://localhost:8080/"
        },
        "id": "64b542c2",
        "outputId": "49e0d935-1472-4961-916e-19c7a8ab727f"
      },
      "outputs": [
        {
          "output_type": "stream",
          "name": "stdout",
          "text": [
            "there are: 0 missing names\n",
            "there are: 0 duplicated names\n"
          ]
        }
      ],
      "source": [
        "# Checking for duplication and missing values\n",
        "missing = nasa_df[['name']].isnull().sum().to_string(index=False)               # counts the cells in name that are null, and converts them to string\n",
        "duplicate = len(nasa_df['name'])-len(nasa_df['name'].drop_duplicates())         # counts the duplicates in name column\n",
        "\n",
        "# Print message\n",
        "print('there are: ' + missing + ' missing names' )                              #Prints a note with results\n",
        "print('there are: ' + str(duplicate) + ' duplicated names' )                    #Prints a note with results\n",
        "\n"
      ]
    },
    {
      "cell_type": "markdown",
      "source": [
        "### Splitting/Joining data:\n",
        "Initially we slit the data, before 2000 and after 1999.<br>\n",
        "This gives us two dataset, if we merge the datasets and view the shape of the new dataset we can set the merge worked but gives us 25 columns. However, if we concatenate teh dataset we see we are left with the same shape dataset as the original."
      ],
      "metadata": {
        "id": "ZgoNOrruyVTj"
      },
      "id": "ZgoNOrruyVTj"
    },
    {
      "cell_type": "code",
      "execution_count": 14,
      "id": "614b737f",
      "metadata": {
        "colab": {
          "base_uri": "https://localhost:8080/"
        },
        "id": "614b737f",
        "outputId": "14687f46-48c2-4078-e821-df6a5a39cee2"
      },
      "outputs": [
        {
          "output_type": "stream",
          "name": "stdout",
          "text": [
            "(30, 13)   <- before 2000\n",
            "(5220, 13) <- after 1999\n",
            "(5250, 13) <- original\n",
            "(5220, 25) <- merged\n",
            "(5250, 13) <- concatenated\n"
          ]
        }
      ],
      "source": [
        "# Split data (all entries discovered before 2000)\n",
        "data_before_2000 = nasa_df[nasa_df['discovery_year'] < 2000]\n",
        "\n",
        "# Split data (all entries discovered after 1999)\n",
        "data_after_1999 = nasa_df[nasa_df['discovery_year'] > 1999]\n",
        "\n",
        "print(str(data_before_2000.shape)+'   <- before 2000')\n",
        "print(str(data_after_1999.shape)+' <- after 1999')\n",
        "print(str(nasa_df.shape)+ ' <- original')\n",
        "\n",
        "# Merge the split parts\n",
        "data_merge = data_after_1999.merge(data_before_2000, on='name', how='left', suffixes=('_aft99', '_bfr2000'))\n",
        "\n",
        "print(str(data_merge.shape)+' <- merged')\n",
        "\n",
        "# Concatenate the split parts\n",
        "data_concat = pd.concat([data_before_2000,data_after_1999])\n",
        "print(str(data_concat.shape)+' <- concatenated')"
      ]
    },
    {
      "cell_type": "markdown",
      "source": [
        "### Counting:\n",
        "Here we cound the planets discovered each year.<br>\n",
        "Noting the crazy amount of planets discovered in 2016. What happened in 2016 to cause this huge spike?<br>"
      ],
      "metadata": {
        "id": "AMqMklQjzKuh"
      },
      "id": "AMqMklQjzKuh"
    },
    {
      "cell_type": "code",
      "execution_count": 15,
      "id": "e20fffca",
      "metadata": {
        "colab": {
          "base_uri": "https://localhost:8080/"
        },
        "id": "e20fffca",
        "outputId": "d3a4c569-0553-4fc6-ed3a-02239d5c0bed"
      },
      "outputs": [
        {
          "output_type": "execute_result",
          "data": {
            "text/plain": [
              "2016    1517\n",
              "2014     875\n",
              "2021     525\n",
              "2022     338\n",
              "2018     326\n",
              "2020     234\n",
              "2019     203\n",
              "2015     157\n",
              "2017     153\n",
              "2012     138\n",
              "2011     138\n",
              "2013     126\n",
              "2010      97\n",
              "2009      94\n",
              "2008      65\n",
              "2007      52\n",
              "2005      36\n",
              "2006      31\n",
              "2002      29\n",
              "2004      27\n",
              "2003      22\n",
              "2000      16\n",
              "1999      13\n",
              "2001      12\n",
              "2023       9\n",
              "1996       6\n",
              "1998       6\n",
              "1992       2\n",
              "1995       1\n",
              "1994       1\n",
              "1997       1\n",
              "Name: discovery_year, dtype: int64"
            ]
          },
          "metadata": {},
          "execution_count": 15
        }
      ],
      "source": [
        "# Count planets discovered each year\n",
        "nasa_df['discovery_year'].value_counts()"
      ]
    },
    {
      "cell_type": "markdown",
      "source": [
        "### Plot 1: (2016 spike)\n",
        "This plot shows the spike on a bar chart<br>"
      ],
      "metadata": {
        "id": "Ac_CBp8Gzo3f"
      },
      "id": "Ac_CBp8Gzo3f"
    },
    {
      "cell_type": "code",
      "execution_count": 71,
      "id": "73a616ca",
      "metadata": {
        "colab": {
          "base_uri": "https://localhost:8080/",
          "height": 295
        },
        "id": "73a616ca",
        "outputId": "12f0f18b-4286-459f-fbaf-387f6364a041"
      },
      "outputs": [
        {
          "output_type": "display_data",
          "data": {
            "text/plain": [
              "<Figure size 432x288 with 1 Axes>"
            ],
            "image/png": "[encoded data removed]"
          },
          "metadata": {
            "needs_background": "light"
          }
        }
      ],
      "source": [
        "# Plot the above info\n",
        "#(Plot: Count of planets discovered each year)\n",
        "count_discovered = nasa_df['discovery_year'].value_counts()\n",
        "count_discovered_df = pd.DataFrame(count_discovered)\n",
        "plt.bar(count_discovered_df.index, count_discovered_df[\"discovery_year\"])\n",
        "plt.xlabel(\"Year of discovery\")\n",
        "plt.ylabel(\"No. of planets discovered\")\n",
        "plt.title('Planets discovered per year')\n",
        "plt.show()"
      ]
    },
    {
      "cell_type": "code",
      "execution_count": 72,
      "id": "c7c9689d",
      "metadata": {
        "colab": {
          "base_uri": "https://localhost:8080/"
        },
        "id": "c7c9689d",
        "outputId": "670e2732-4fe4-4f6d-e66c-8467412b09d8"
      },
      "outputs": [
        {
          "output_type": "execute_result",
          "data": {
            "text/plain": [
              "Transit                        1453\n",
              "Radial Velocity                  50\n",
              "Gravitational Microlensing       10\n",
              "Direct Imaging                    2\n",
              "Transit Timing Variations         1\n",
              "Pulsation Timing Variations       1\n",
              "Name: detection_method, dtype: int64"
            ]
          },
          "metadata": {},
          "execution_count": 72
        }
      ],
      "source": [
        "# As 2016 has substantially more planets discovered, lets check it out\n",
        "discovered2016 = nasa_df['discovery_year'] == 2016\n",
        "nasa_df['detection_method'][discovered2016].value_counts()"
      ]
    },
    {
      "cell_type": "markdown",
      "source": [
        "### Plot 2: (Transit spike in 2016)\n",
        "This plot shows the spike on a bar chart<br>"
      ],
      "metadata": {
        "id": "l4yKSrcscJwQ"
      },
      "id": "l4yKSrcscJwQ"
    },
    {
      "cell_type": "code",
      "source": [
        "# Plot the above info\n",
        "#(Plot: Planets discovered by detection method (2016 only))\n",
        "count_detect = nasa_df['detection_method'][discovered2016].value_counts()\n",
        "count_detect_df = pd.DataFrame(count_detect)\n",
        "plt.bar(count_detect_df.index, count_detect_df[\"detection_method\"])\n",
        "plt.xlabel(\"Year of discovery\")\n",
        "plt.ylabel(\"No. of planets discovered\")\n",
        "plt.title('Planets discovered by detection method (2016 only)')\n",
        "plt.xticks(rotation=45)\n",
        "plt.show()"
      ],
      "metadata": {
        "colab": {
          "base_uri": "https://localhost:8080/",
          "height": 388
        },
        "id": "FFKLmmJZcT4G",
        "outputId": "2acfb918-5b38-4e57-fa83-302be9211eba"
      },
      "id": "FFKLmmJZcT4G",
      "execution_count": 78,
      "outputs": [
        {
          "output_type": "display_data",
          "data": {
            "text/plain": [
              "<Figure size 432x288 with 1 Axes>"
            ],
            "image/png": "[encoded data removed]"
          },
          "metadata": {
            "needs_background": "light"
          }
        }
      ]
    },
    {
      "cell_type": "markdown",
      "source": [
        "### Plot 3: (Detection Method Plot)\n",
        "This plot shows the spike on a bar chart<br>"
      ],
      "metadata": {
        "id": "BzycPV0kfAe0"
      },
      "id": "BzycPV0kfAe0"
    },
    {
      "cell_type": "code",
      "source": [
        "# Plot the above info\n",
        "#(Plot: Count of Planets discovered by detection method (all))\n",
        "count_detect_all = nasa_df['detection_method'].value_counts()\n",
        "count_detect_all_df = pd.DataFrame(count_detect_all)\n",
        "plt.bar(count_detect_all_df.index, count_detect_all_df[\"detection_method\"])\n",
        "plt.xlabel(\"Year of discovery\")\n",
        "plt.ylabel(\"No. of planets discovered\")\n",
        "plt.title('Planets discovered by detection method (all)')\n",
        "plt.xticks(rotation=90)\n",
        "plt.show()"
      ],
      "metadata": {
        "colab": {
          "base_uri": "https://localhost:8080/",
          "height": 434
        },
        "id": "1xiCHQzBdhz5",
        "outputId": "a5d9c4da-ffe9-4ff4-fe98-092cc3ef56b6"
      },
      "id": "1xiCHQzBdhz5",
      "execution_count": 81,
      "outputs": [
        {
          "output_type": "display_data",
          "data": {
            "text/plain": [
              "<Figure size 432x288 with 1 Axes>"
            ],
            "image/png": "[encoded data removed]"
          },
          "metadata": {
            "needs_background": "light"
          }
        }
      ]
    },
    {
      "cell_type": "code",
      "execution_count": 83,
      "id": "5366ae60",
      "metadata": {
        "colab": {
          "base_uri": "https://localhost:8080/"
        },
        "id": "5366ae60",
        "outputId": "4329adfc-2221-4044-e070-f3af6fe9c168"
      },
      "outputs": [
        {
          "output_type": "stream",
          "name": "stdout",
          "text": [
            "                      distance\n",
            "name                          \n",
            "K2-239 c                 101.0\n",
            "K2-136 b                 193.0\n",
            "EPIC 206215704 b         358.0\n",
            "Kepler-1053 b            493.0\n",
            "Kepler-220 d             558.0\n",
            "EPIC 201833600 c         840.0\n",
            "Kepler-1876 b            848.0\n",
            "Kepler-381 b             872.0\n",
            "K2-157 b                 973.0\n",
            "K2-411 b                 973.0\n",
            "Kepler-1800 b           1143.0\n",
            "Kepler-969 c            1273.0\n",
            "EPIC 220492298 b        2037.0\n",
            "Kepler-392 b            2223.0\n",
            "KMT-2020-BLG-0414L b    2610.0\n",
            "Kepler-1328 b           2654.0\n",
            "Kepler-1047 c           2667.0\n",
            "Kepler-1417 b           3235.0\n",
            "Kepler-1464 c           3757.0\n"
          ]
        }
      ],
      "source": [
        "# Lets check if any planets are a) terrestrial (i.e, made of rock), b.1) have a comparable mass to earth and within a 10% range i.e. 0.9 or 1.1\n",
        "# They might be still very hot or very cold but we dont have enough information to include possible temperature parameters within this dataset.\n",
        "data_query = nasa_df.query('(mass_wrt == \"Earth\" and planet_type == \"Terrestrial\" and mass_multiplier >= 0.9 and mass_multiplier <= 1.1)')\n",
        "print(data_query[['name','distance']].sort_values('distance').set_index('name'))\n"
      ]
    },
    {
      "cell_type": "markdown",
      "source": [
        "## Insites:"
      ],
      "metadata": {
        "id": "u1XIlwZkgGNu"
      },
      "id": "u1XIlwZkgGNu"
    },
    {
      "cell_type": "markdown",
      "id": "22e996ae",
      "metadata": {
        "id": "22e996ae"
      },
      "source": [
        "Insights from NASA data only:\n",
        "\n",
        "\n",
        "1.   2016 is the greatest year for planet discovery.\n",
        "2.   The 'Transit' detection system is the superior (or most prefered) method of detection. \n",
        "3.   SWEEPS 4 b & 11 b are two exoplanets discovred in 2006, are currently the furthest known exoplanets from earth at 27,727 light years away\n",
        "4.   Planets that may be habitable based on my crude assumption about comparisons with Earth are the planets from the K2-239c and K2-136b. Both planets are rouchly the same size as earth and are about the same distance away from their sun.\n",
        "5.   In 2016, t\n",
        "\n"
      ]
    },
    {
      "cell_type": "markdown",
      "source": [
        "## References:"
      ],
      "metadata": {
        "id": "RIUQP_yEgNfs"
      },
      "id": "RIUQP_yEgNfs"
    },
    {
      "cell_type": "markdown",
      "id": "341fe237",
      "metadata": {
        "id": "341fe237"
      },
      "source": [
        "1. https://stackoverflow.com/questions/38076220/python-mysqldb-connection-in-a-class, carusot42, 2023\n",
        "\n",
        "2. https://www.kaggle.com/datasets/arashnic/exoplanets, 2023"
      ]
    }
  ],
  "metadata": {
    "kernelspec": {
      "display_name": "Python 3 (ipykernel)",
      "language": "python",
      "name": "python3"
    },
    "language_info": {
      "codemirror_mode": {
        "name": "ipython",
        "version": 3
      },
      "file_extension": ".py",
      "mimetype": "text/x-python",
      "name": "python",
      "nbconvert_exporter": "python",
      "pygments_lexer": "ipython3",
      "version": "3.9.13"
    },
    "colab": {
      "provenance": [],
      "toc_visible": true,
      "include_colab_link": true
    }
  },
  "nbformat": 4,
  "nbformat_minor": 5
}