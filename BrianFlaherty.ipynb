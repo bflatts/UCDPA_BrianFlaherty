{
  "nbformat": 4,
  "nbformat_minor": 0,
  "metadata": {
    "colab": {
      "provenance": [],
      "mount_file_id": "18-fOZco7DGsR80q1TKuPzwJvLk0tRdeG",
      "authorship_tag": "ABX9TyPBhYOIl4SgcQrIcY4yQHAT",
      "include_colab_link": true
    },
    "kernelspec": {
      "name": "python3",
      "display_name": "Python 3"
    },
    "language_info": {
      "name": "python"
    }
  },
  "cells": [
    {
      "cell_type": "markdown",
      "metadata": {
        "id": "view-in-github",
        "colab_type": "text"
      },
      "source": [
        "<a href=\"https://colab.research.google.com/github/bflatts/UCDPA_BrianFlaherty/blob/main/BrianFlaherty.ipynb\" target=\"_parent\"><img src=\"https://colab.research.google.com/assets/colab-badge.svg\" alt=\"Open In Colab\"/></a>"
      ]
    },
    {
      "cell_type": "code",
      "source": [
        "# imports\n",
        "import pandas as pd\n"
      ],
      "metadata": {
        "id": "mK2ytUp6bmC9"
      },
      "execution_count": null,
      "outputs": []
    },
    {
      "cell_type": "code",
      "source": [
        "# Variables\n",
        "DIR = '/content/drive/MyDrive/Colab Notebooks/'\n",
        "FILENAME = DIR + 'cleaned_5250.csv'"
      ],
      "metadata": {
        "id": "D32z--KsjXEe"
      },
      "execution_count": null,
      "outputs": []
    },
    {
      "cell_type": "code",
      "source": [
        "# Reading CSV file\n",
        "data = pd.read_csv(FILENAME, header = 0)\n"
      ],
      "metadata": {
        "id": "qtsa3Gi6jpm5"
      },
      "execution_count": null,
      "outputs": []
    },
    {
      "cell_type": "code",
      "source": [
        "# Sorting\n",
        "number_to_print = 5\n",
        "\n",
        "print(f'The furtheset {number_to_print} exoplanets from the sun are:')          #Prints a note\n",
        "farthest_from_sun = data.sort_values('distance', ascending=False )              #sorts the dataset by distance\n",
        "print(farthest_from_sun[['name']].head(number_to_print).to_string(index=False)) #prints out the first number of names\n",
        "\n"
      ],
      "metadata": {
        "colab": {
          "base_uri": "https://localhost:8080/"
        },
        "id": "EFSOcYIvtmFO",
        "outputId": "c230723f-860d-4a7d-df28-d7bad877744b"
      },
      "execution_count": null,
      "outputs": [
        {
          "output_type": "stream",
          "name": "stdout",
          "text": [
            "The furtheset 5 exoplanets from the sun are:\n",
            "                 name\n",
            "           SWEEPS-4 b\n",
            "          SWEEPS-11 b\n",
            " KMT-2021-BLG-1077L b\n",
            " KMT-2021-BLG-1077L c\n",
            "OGLE-2015-BLG-0051L b\n"
          ]
        }
      ]
    },
    {
      "cell_type": "code",
      "source": [
        "# indexing\n",
        "data_ind = data.set_index('name')\n",
        "print(data_ind[['distance','planet_type']].head())"
      ],
      "metadata": {
        "colab": {
          "base_uri": "https://localhost:8080/"
        },
        "id": "kpnAnamsuRVD",
        "outputId": "f4f2f12a-62a0-49a5-99bb-7605d9e9969c"
      },
      "execution_count": null,
      "outputs": [
        {
          "output_type": "stream",
          "name": "stdout",
          "text": [
            "                      distance planet_type\n",
            "name                                      \n",
            "11 Comae Berenices b     304.0   Gas Giant\n",
            "11 Ursae Minoris b       409.0   Gas Giant\n",
            "14 Andromedae b          246.0   Gas Giant\n",
            "14 Herculis b             58.0   Gas Giant\n",
            "16 Cygni B b              69.0   Gas Giant\n"
          ]
        }
      ]
    },
    {
      "cell_type": "code",
      "source": [
        "# grouping\n",
        "print('Table showing smallest, largest, and avergage planet size per planet type')\n",
        "data.groupby('planet_type')['radius_multiplier'].agg(['min', 'max', 'mean'])"
      ],
      "metadata": {
        "colab": {
          "base_uri": "https://localhost:8080/",
          "height": 255
        },
        "id": "L1Sl-PAjviTo",
        "outputId": "a111e5e0-db0e-4a5a-d228-448ab9fbbcd4"
      },
      "execution_count": null,
      "outputs": [
        {
          "output_type": "stream",
          "name": "stdout",
          "text": [
            "Table showing smallest, largest, and avergage planet size per planet type\n"
          ]
        },
        {
          "output_type": "execute_result",
          "data": {
            "text/plain": [
              "                min    max      mean\n",
              "planet_type                         \n",
              "Gas Giant     0.225  6.900  1.160728\n",
              "Neptune-like  0.200  2.233  0.493737\n",
              "Super Earth   0.201  2.230  1.487342\n",
              "Terrestrial   0.259  1.800  0.824062\n",
              "Unknown         NaN    NaN       NaN"
            ],
            "text/html": [
              "\n",
              "  <div id=\"df-33f3768c-8a39-4c6c-912c-f539ac76604a\">\n",
              "    <div class=\"colab-df-container\">\n",
              "      <div>\n",
              "<style scoped>\n",
              "    .dataframe tbody tr th:only-of-type {\n",
              "        vertical-align: middle;\n",
              "    }\n",
              "\n",
              "    .dataframe tbody tr th {\n",
              "        vertical-align: top;\n",
              "    }\n",
              "\n",
              "    .dataframe thead th {\n",
              "        text-align: right;\n",
              "    }\n",
              "</style>\n",
              "<table border=\"1\" class=\"dataframe\">\n",
              "  <thead>\n",
              "    <tr style=\"text-align: right;\">\n",
              "      <th></th>\n",
              "      <th>min</th>\n",
              "      <th>max</th>\n",
              "      <th>mean</th>\n",
              "    </tr>\n",
              "    <tr>\n",
              "      <th>planet_type</th>\n",
              "      <th></th>\n",
              "      <th></th>\n",
              "      <th></th>\n",
              "    </tr>\n",
              "  </thead>\n",
              "  <tbody>\n",
              "    <tr>\n",
              "      <th>Gas Giant</th>\n",
              "      <td>0.225</td>\n",
              "      <td>6.900</td>\n",
              "      <td>1.160728</td>\n",
              "    </tr>\n",
              "    <tr>\n",
              "      <th>Neptune-like</th>\n",
              "      <td>0.200</td>\n",
              "      <td>2.233</td>\n",
              "      <td>0.493737</td>\n",
              "    </tr>\n",
              "    <tr>\n",
              "      <th>Super Earth</th>\n",
              "      <td>0.201</td>\n",
              "      <td>2.230</td>\n",
              "      <td>1.487342</td>\n",
              "    </tr>\n",
              "    <tr>\n",
              "      <th>Terrestrial</th>\n",
              "      <td>0.259</td>\n",
              "      <td>1.800</td>\n",
              "      <td>0.824062</td>\n",
              "    </tr>\n",
              "    <tr>\n",
              "      <th>Unknown</th>\n",
              "      <td>NaN</td>\n",
              "      <td>NaN</td>\n",
              "      <td>NaN</td>\n",
              "    </tr>\n",
              "  </tbody>\n",
              "</table>\n",
              "</div>\n",
              "      <button class=\"colab-df-convert\" onclick=\"convertToInteractive('df-33f3768c-8a39-4c6c-912c-f539ac76604a')\"\n",
              "              title=\"Convert this dataframe to an interactive table.\"\n",
              "              style=\"display:none;\">\n",
              "        \n",
              "  <svg xmlns=\"http://www.w3.org/2000/svg\" height=\"24px\"viewBox=\"0 0 24 24\"\n",
              "       width=\"24px\">\n",
              "    <path d=\"M0 0h24v24H0V0z\" fill=\"none\"/>\n",
              "    <path d=\"M18.56 5.44l.94 2.06.94-2.06 2.06-.94-2.06-.94-.94-2.06-.94 2.06-2.06.94zm-11 1L8.5 8.5l.94-2.06 2.06-.94-2.06-.94L8.5 2.5l-.94 2.06-2.06.94zm10 10l.94 2.06.94-2.06 2.06-.94-2.06-.94-.94-2.06-.94 2.06-2.06.94z\"/><path d=\"M17.41 7.96l-1.37-1.37c-.4-.4-.92-.59-1.43-.59-.52 0-1.04.2-1.43.59L10.3 9.45l-7.72 7.72c-.78.78-.78 2.05 0 2.83L4 21.41c.39.39.9.59 1.41.59.51 0 1.02-.2 1.41-.59l7.78-7.78 2.81-2.81c.8-.78.8-2.07 0-2.86zM5.41 20L4 18.59l7.72-7.72 1.47 1.35L5.41 20z\"/>\n",
              "  </svg>\n",
              "      </button>\n",
              "      \n",
              "  <style>\n",
              "    .colab-df-container {\n",
              "      display:flex;\n",
              "      flex-wrap:wrap;\n",
              "      gap: 12px;\n",
              "    }\n",
              "\n",
              "    .colab-df-convert {\n",
              "      background-color: #E8F0FE;\n",
              "      border: none;\n",
              "      border-radius: 50%;\n",
              "      cursor: pointer;\n",
              "      display: none;\n",
              "      fill: #1967D2;\n",
              "      height: 32px;\n",
              "      padding: 0 0 0 0;\n",
              "      width: 32px;\n",
              "    }\n",
              "\n",
              "    .colab-df-convert:hover {\n",
              "      background-color: #E2EBFA;\n",
              "      box-shadow: 0px 1px 2px rgba(60, 64, 67, 0.3), 0px 1px 3px 1px rgba(60, 64, 67, 0.15);\n",
              "      fill: #174EA6;\n",
              "    }\n",
              "\n",
              "    [theme=dark] .colab-df-convert {\n",
              "      background-color: #3B4455;\n",
              "      fill: #D2E3FC;\n",
              "    }\n",
              "\n",
              "    [theme=dark] .colab-df-convert:hover {\n",
              "      background-color: #434B5C;\n",
              "      box-shadow: 0px 1px 3px 1px rgba(0, 0, 0, 0.15);\n",
              "      filter: drop-shadow(0px 1px 2px rgba(0, 0, 0, 0.3));\n",
              "      fill: #FFFFFF;\n",
              "    }\n",
              "  </style>\n",
              "\n",
              "      <script>\n",
              "        const buttonEl =\n",
              "          document.querySelector('#df-33f3768c-8a39-4c6c-912c-f539ac76604a button.colab-df-convert');\n",
              "        buttonEl.style.display =\n",
              "          google.colab.kernel.accessAllowed ? 'block' : 'none';\n",
              "\n",
              "        async function convertToInteractive(key) {\n",
              "          const element = document.querySelector('#df-33f3768c-8a39-4c6c-912c-f539ac76604a');\n",
              "          const dataTable =\n",
              "            await google.colab.kernel.invokeFunction('convertToInteractive',\n",
              "                                                     [key], {});\n",
              "          if (!dataTable) return;\n",
              "\n",
              "          const docLinkHtml = 'Like what you see? Visit the ' +\n",
              "            '<a target=\"_blank\" href=https://colab.research.google.com/notebooks/data_table.ipynb>data table notebook</a>'\n",
              "            + ' to learn more about interactive tables.';\n",
              "          element.innerHTML = '';\n",
              "          dataTable['output_type'] = 'display_data';\n",
              "          await google.colab.output.renderOutput(dataTable, element);\n",
              "          const docLink = document.createElement('div');\n",
              "          docLink.innerHTML = docLinkHtml;\n",
              "          element.appendChild(docLink);\n",
              "        }\n",
              "      </script>\n",
              "    </div>\n",
              "  </div>\n",
              "  "
            ]
          },
          "metadata": {},
          "execution_count": 21
        }
      ]
    },
    {
      "cell_type": "code",
      "source": [
        "# Checking for duplication and missing values\n",
        "missing = data[['name']].isnull().sum().to_string(index=False)                  # counts the cells in name that are null, and converts them to string\n",
        "duplicate = len(data['name'])-len(data['name'].drop_duplicates())               # counts the duplicates in name column\n",
        "\n",
        "#print message\n",
        "print('there are : ' + missing + ' missing names' )\n",
        "print('there are : ' + str(duplicate) + ' duplicated names' )\n",
        "\n"
      ],
      "metadata": {
        "colab": {
          "base_uri": "https://localhost:8080/"
        },
        "id": "Iig54KmyEisd",
        "outputId": "3eb41e71-ef76-4542-96d2-fe56a5733824"
      },
      "execution_count": null,
      "outputs": [
        {
          "output_type": "stream",
          "name": "stdout",
          "text": [
            "there are : 0 missing names\n",
            "there are : 0 duplicated names\n"
          ]
        }
      ]
    },
    {
      "cell_type": "code",
      "source": [
        "#split data, all entries before 2000\n",
        "data_before_2000 = data[data['discovery_year'] < 2000]\n",
        "\n",
        "#split data, all entries after 1999\n",
        "data_after_1999 = data[data['discovery_year'] > 1999]\n",
        "\n",
        "print(str(data_before_2000.shape)+'   <- before 2000')\n",
        "print(str(data_after_1999.shape)+' <- after 1999')\n",
        "print(str(data.shape)+ ' <- original')\n",
        "\n",
        "#merge the split parts\n",
        "data_merge = data_after_1999.merge(data_before_2000, on='name', how='left', suffixes=('_aft99', '_bfr2000'))\n",
        "\n",
        "print(str(data_merge.shape)+' <- merged')\n",
        "\n",
        "#concat the split parts\n",
        "data_concat = pd.concat([data_before_2000,data_after_1999])\n",
        "print(str(data_concat.shape)+' <- concatenated')"
      ],
      "metadata": {
        "colab": {
          "base_uri": "https://localhost:8080/"
        },
        "id": "riRfnOr5yZZA",
        "outputId": "973f657f-ee4b-40e7-8f04-8ad2d8f36057"
      },
      "execution_count": null,
      "outputs": [
        {
          "output_type": "stream",
          "name": "stdout",
          "text": [
            "(30, 13)   <- before 2000\n",
            "(5220, 13) <- after 1999\n",
            "(5250, 13) <- original\n",
            "(5220, 25) <- merged\n",
            "(5250, 13) <- concatenated\n"
          ]
        }
      ]
    }
  ]
}