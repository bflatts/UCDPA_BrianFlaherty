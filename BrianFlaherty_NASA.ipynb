{
  "nbformat": 4,
  "nbformat_minor": 0,
  "metadata": {
    "colab": {
      "provenance": [],
      "toc_visible": true,
      "mount_file_id": "18-fOZco7DGsR80q1TKuPzwJvLk0tRdeG",
      "authorship_tag": "ABX9TyM7Idhi44v+bjln9+cGoVRH",
      "include_colab_link": true
    },
    "kernelspec": {
      "name": "python3",
      "display_name": "Python 3"
    },
    "language_info": {
      "name": "python"
    }
  },
  "cells": [
    {
      "cell_type": "markdown",
      "metadata": {
        "id": "view-in-github",
        "colab_type": "text"
      },
      "source": [
        "<a href=\"https://colab.research.google.com/github/bflatts/UCDPA_BrianFlaherty/blob/main/BrianFlaherty_NASA.ipynb\" target=\"_parent\"><img src=\"https://colab.research.google.com/assets/colab-badge.svg\" alt=\"Open In Colab\"/></a>"
      ]
    },
    {
      "cell_type": "markdown",
      "source": [
        "# NASA Exoplants"
      ],
      "metadata": {
        "id": "wZ8EO9toWCTs"
      }
    },
    {
      "cell_type": "code",
      "source": [
        "# Imports\n",
        "import pandas as pd\n",
        "import matplotlib.pyplot as plt\n"
      ],
      "metadata": {
        "id": "mK2ytUp6bmC9"
      },
      "execution_count": null,
      "outputs": []
    },
    {
      "cell_type": "code",
      "source": [
        "# Variables\n",
        "DIR = '/content/drive/MyDrive/Colab Notebooks/'\n",
        "FILENAME = DIR + 'cleaned_5250.csv'"
      ],
      "metadata": {
        "id": "D32z--KsjXEe"
      },
      "execution_count": null,
      "outputs": []
    },
    {
      "cell_type": "code",
      "source": [
        "# Reading file\n",
        "data = pd.read_csv(FILENAME, header = 0)\n"
      ],
      "metadata": {
        "id": "qtsa3Gi6jpm5"
      },
      "execution_count": null,
      "outputs": []
    },
    {
      "cell_type": "code",
      "source": [
        "# Sorting\n",
        "number_to_print = 5\n",
        "\n",
        "print(f'The furtheset {number_to_print} exoplanets from the sun are:')          #Prints a note\n",
        "farthest_from_sun = data.sort_values('distance', ascending=False )              #sorts the dataset by distance\n",
        "print(farthest_from_sun[['name']].head(number_to_print).to_string(index=False)) #prints out the first number of names\n",
        "\n"
      ],
      "metadata": {
        "colab": {
          "base_uri": "https://localhost:8080/"
        },
        "id": "EFSOcYIvtmFO",
        "outputId": "d2952b1f-2ef9-4c98-ce1a-fcb74f98ddd3"
      },
      "execution_count": null,
      "outputs": [
        {
          "output_type": "stream",
          "name": "stdout",
          "text": [
            "The furtheset 5 exoplanets from the sun are:\n",
            "                 name\n",
            "           SWEEPS-4 b\n",
            "          SWEEPS-11 b\n",
            " KMT-2021-BLG-1077L b\n",
            " KMT-2021-BLG-1077L c\n",
            "OGLE-2015-BLG-0051L b\n"
          ]
        }
      ]
    },
    {
      "cell_type": "code",
      "source": [
        "# Indexing\n",
        "data_ind = data.set_index('name')                                               #Set the name column as the dataset index\n",
        "print(data_ind[['distance','planet_type']].head())                              #print the distance and planet_type, noting the index is now name"
      ],
      "metadata": {
        "colab": {
          "base_uri": "https://localhost:8080/"
        },
        "id": "kpnAnamsuRVD",
        "outputId": "7c606c66-f8b7-4e2f-8ec7-1037c7e43ebe"
      },
      "execution_count": null,
      "outputs": [
        {
          "output_type": "stream",
          "name": "stdout",
          "text": [
            "                      distance planet_type\n",
            "name                                      \n",
            "11 Comae Berenices b     304.0   Gas Giant\n",
            "11 Ursae Minoris b       409.0   Gas Giant\n",
            "14 Andromedae b          246.0   Gas Giant\n",
            "14 Herculis b             58.0   Gas Giant\n",
            "16 Cygni B b              69.0   Gas Giant\n"
          ]
        }
      ]
    },
    {
      "cell_type": "code",
      "source": [
        "# Grouping\n",
        "print('Table showing smallest, largest, and avergage planet size per planet type')#Prints a note\n",
        "data.groupby('planet_type')['radius_multiplier'].agg(['min', 'max', 'mean'])    #Group the data by planet_type and aggregate the min, max and mean for the radius multiplier"
      ],
      "metadata": {
        "colab": {
          "base_uri": "https://localhost:8080/",
          "height": 255
        },
        "id": "L1Sl-PAjviTo",
        "outputId": "90a71f00-d1ad-464d-8a1d-f9abee857ea8"
      },
      "execution_count": null,
      "outputs": [
        {
          "output_type": "stream",
          "name": "stdout",
          "text": [
            "Table showing smallest, largest, and avergage planet size per planet type\n"
          ]
        },
        {
          "output_type": "execute_result",
          "data": {
            "text/plain": [
              "                min    max      mean\n",
              "planet_type                         \n",
              "Gas Giant     0.225  6.900  1.160728\n",
              "Neptune-like  0.200  2.233  0.493737\n",
              "Super Earth   0.201  2.230  1.487342\n",
              "Terrestrial   0.259  1.800  0.824062\n",
              "Unknown         NaN    NaN       NaN"
            ],
            "text/html": [
              "\n",
              "  <div id=\"df-8c90bc19-3364-42b5-b896-eed9427a895e\">\n",
              "    <div class=\"colab-df-container\">\n",
              "      <div>\n",
              "<style scoped>\n",
              "    .dataframe tbody tr th:only-of-type {\n",
              "        vertical-align: middle;\n",
              "    }\n",
              "\n",
              "    .dataframe tbody tr th {\n",
              "        vertical-align: top;\n",
              "    }\n",
              "\n",
              "    .dataframe thead th {\n",
              "        text-align: right;\n",
              "    }\n",
              "</style>\n",
              "<table border=\"1\" class=\"dataframe\">\n",
              "  <thead>\n",
              "    <tr style=\"text-align: right;\">\n",
              "      <th></th>\n",
              "      <th>min</th>\n",
              "      <th>max</th>\n",
              "      <th>mean</th>\n",
              "    </tr>\n",
              "    <tr>\n",
              "      <th>planet_type</th>\n",
              "      <th></th>\n",
              "      <th></th>\n",
              "      <th></th>\n",
              "    </tr>\n",
              "  </thead>\n",
              "  <tbody>\n",
              "    <tr>\n",
              "      <th>Gas Giant</th>\n",
              "      <td>0.225</td>\n",
              "      <td>6.900</td>\n",
              "      <td>1.160728</td>\n",
              "    </tr>\n",
              "    <tr>\n",
              "      <th>Neptune-like</th>\n",
              "      <td>0.200</td>\n",
              "      <td>2.233</td>\n",
              "      <td>0.493737</td>\n",
              "    </tr>\n",
              "    <tr>\n",
              "      <th>Super Earth</th>\n",
              "      <td>0.201</td>\n",
              "      <td>2.230</td>\n",
              "      <td>1.487342</td>\n",
              "    </tr>\n",
              "    <tr>\n",
              "      <th>Terrestrial</th>\n",
              "      <td>0.259</td>\n",
              "      <td>1.800</td>\n",
              "      <td>0.824062</td>\n",
              "    </tr>\n",
              "    <tr>\n",
              "      <th>Unknown</th>\n",
              "      <td>NaN</td>\n",
              "      <td>NaN</td>\n",
              "      <td>NaN</td>\n",
              "    </tr>\n",
              "  </tbody>\n",
              "</table>\n",
              "</div>\n",
              "      <button class=\"colab-df-convert\" onclick=\"convertToInteractive('df-8c90bc19-3364-42b5-b896-eed9427a895e')\"\n",
              "              title=\"Convert this dataframe to an interactive table.\"\n",
              "              style=\"display:none;\">\n",
              "        \n",
              "  <svg xmlns=\"http://www.w3.org/2000/svg\" height=\"24px\"viewBox=\"0 0 24 24\"\n",
              "       width=\"24px\">\n",
              "    <path d=\"M0 0h24v24H0V0z\" fill=\"none\"/>\n",
              "    <path d=\"M18.56 5.44l.94 2.06.94-2.06 2.06-.94-2.06-.94-.94-2.06-.94 2.06-2.06.94zm-11 1L8.5 8.5l.94-2.06 2.06-.94-2.06-.94L8.5 2.5l-.94 2.06-2.06.94zm10 10l.94 2.06.94-2.06 2.06-.94-2.06-.94-.94-2.06-.94 2.06-2.06.94z\"/><path d=\"M17.41 7.96l-1.37-1.37c-.4-.4-.92-.59-1.43-.59-.52 0-1.04.2-1.43.59L10.3 9.45l-7.72 7.72c-.78.78-.78 2.05 0 2.83L4 21.41c.39.39.9.59 1.41.59.51 0 1.02-.2 1.41-.59l7.78-7.78 2.81-2.81c.8-.78.8-2.07 0-2.86zM5.41 20L4 18.59l7.72-7.72 1.47 1.35L5.41 20z\"/>\n",
              "  </svg>\n",
              "      </button>\n",
              "      \n",
              "  <style>\n",
              "    .colab-df-container {\n",
              "      display:flex;\n",
              "      flex-wrap:wrap;\n",
              "      gap: 12px;\n",
              "    }\n",
              "\n",
              "    .colab-df-convert {\n",
              "      background-color: #E8F0FE;\n",
              "      border: none;\n",
              "      border-radius: 50%;\n",
              "      cursor: pointer;\n",
              "      display: none;\n",
              "      fill: #1967D2;\n",
              "      height: 32px;\n",
              "      padding: 0 0 0 0;\n",
              "      width: 32px;\n",
              "    }\n",
              "\n",
              "    .colab-df-convert:hover {\n",
              "      background-color: #E2EBFA;\n",
              "      box-shadow: 0px 1px 2px rgba(60, 64, 67, 0.3), 0px 1px 3px 1px rgba(60, 64, 67, 0.15);\n",
              "      fill: #174EA6;\n",
              "    }\n",
              "\n",
              "    [theme=dark] .colab-df-convert {\n",
              "      background-color: #3B4455;\n",
              "      fill: #D2E3FC;\n",
              "    }\n",
              "\n",
              "    [theme=dark] .colab-df-convert:hover {\n",
              "      background-color: #434B5C;\n",
              "      box-shadow: 0px 1px 3px 1px rgba(0, 0, 0, 0.15);\n",
              "      filter: drop-shadow(0px 1px 2px rgba(0, 0, 0, 0.3));\n",
              "      fill: #FFFFFF;\n",
              "    }\n",
              "  </style>\n",
              "\n",
              "      <script>\n",
              "        const buttonEl =\n",
              "          document.querySelector('#df-8c90bc19-3364-42b5-b896-eed9427a895e button.colab-df-convert');\n",
              "        buttonEl.style.display =\n",
              "          google.colab.kernel.accessAllowed ? 'block' : 'none';\n",
              "\n",
              "        async function convertToInteractive(key) {\n",
              "          const element = document.querySelector('#df-8c90bc19-3364-42b5-b896-eed9427a895e');\n",
              "          const dataTable =\n",
              "            await google.colab.kernel.invokeFunction('convertToInteractive',\n",
              "                                                     [key], {});\n",
              "          if (!dataTable) return;\n",
              "\n",
              "          const docLinkHtml = 'Like what you see? Visit the ' +\n",
              "            '<a target=\"_blank\" href=https://colab.research.google.com/notebooks/data_table.ipynb>data table notebook</a>'\n",
              "            + ' to learn more about interactive tables.';\n",
              "          element.innerHTML = '';\n",
              "          dataTable['output_type'] = 'display_data';\n",
              "          await google.colab.output.renderOutput(dataTable, element);\n",
              "          const docLink = document.createElement('div');\n",
              "          docLink.innerHTML = docLinkHtml;\n",
              "          element.appendChild(docLink);\n",
              "        }\n",
              "      </script>\n",
              "    </div>\n",
              "  </div>\n",
              "  "
            ]
          },
          "metadata": {},
          "execution_count": 6
        }
      ]
    },
    {
      "cell_type": "code",
      "source": [
        "# Checking for duplication and missing values\n",
        "missing = data[['name']].isnull().sum().to_string(index=False)                  # counts the cells in name that are null, and converts them to string\n",
        "duplicate = len(data['name'])-len(data['name'].drop_duplicates())               # counts the duplicates in name column\n",
        "\n",
        "# Print message\n",
        "print('there are: ' + missing + ' missing names' )                              #Prints a note with results\n",
        "print('there are: ' + str(duplicate) + ' duplicated names' )                    #Prints a note with results\n",
        "\n"
      ],
      "metadata": {
        "colab": {
          "base_uri": "https://localhost:8080/"
        },
        "id": "Iig54KmyEisd",
        "outputId": "96ca6554-7f1f-4880-efd9-4ea8ca2fa2ee"
      },
      "execution_count": null,
      "outputs": [
        {
          "output_type": "stream",
          "name": "stdout",
          "text": [
            "there are: 0 missing names\n",
            "there are: 0 duplicated names\n"
          ]
        }
      ]
    },
    {
      "cell_type": "code",
      "source": [
        "# Split data (all entries discovered before 2000)\n",
        "data_before_2000 = data[data['discovery_year'] < 2000]\n",
        "\n",
        "# Split data (all entries discovered after 1999)\n",
        "data_after_1999 = data[data['discovery_year'] > 1999]\n",
        "\n",
        "print(str(data_before_2000.shape)+'   <- before 2000')\n",
        "print(str(data_after_1999.shape)+' <- after 1999')\n",
        "print(str(data.shape)+ ' <- original')\n",
        "\n",
        "# Merge the split parts\n",
        "data_merge = data_after_1999.merge(data_before_2000, on='name', how='left', suffixes=('_aft99', '_bfr2000'))\n",
        "\n",
        "print(str(data_merge.shape)+' <- merged')\n",
        "\n",
        "# Concatenate the split parts\n",
        "data_concat = pd.concat([data_before_2000,data_after_1999])\n",
        "print(str(data_concat.shape)+' <- concatenated')"
      ],
      "metadata": {
        "colab": {
          "base_uri": "https://localhost:8080/"
        },
        "id": "riRfnOr5yZZA",
        "outputId": "02f7dcf4-5119-40bf-898e-f3837462cada"
      },
      "execution_count": null,
      "outputs": [
        {
          "output_type": "stream",
          "name": "stdout",
          "text": [
            "(30, 13)   <- before 2000\n",
            "(5220, 13) <- after 1999\n",
            "(5250, 13) <- original\n",
            "(5220, 25) <- merged\n",
            "(5250, 13) <- concatenated\n"
          ]
        }
      ]
    },
    {
      "cell_type": "code",
      "source": [
        "# Count planets discovered each year\n",
        "data['discovery_year'].value_counts()"
      ],
      "metadata": {
        "colab": {
          "base_uri": "https://localhost:8080/"
        },
        "id": "x2xLPWeB7_u4",
        "outputId": "e45592a4-ee72-4a36-b4c9-0afcc63c6ecb"
      },
      "execution_count": null,
      "outputs": [
        {
          "output_type": "execute_result",
          "data": {
            "text/plain": [
              "2016    1517\n",
              "2014     875\n",
              "2021     525\n",
              "2022     338\n",
              "2018     326\n",
              "2020     234\n",
              "2019     203\n",
              "2015     157\n",
              "2017     153\n",
              "2012     138\n",
              "2011     138\n",
              "2013     126\n",
              "2010      97\n",
              "2009      94\n",
              "2008      65\n",
              "2007      52\n",
              "2005      36\n",
              "2006      31\n",
              "2002      29\n",
              "2004      27\n",
              "2003      22\n",
              "2000      16\n",
              "1999      13\n",
              "2001      12\n",
              "2023       9\n",
              "1996       6\n",
              "1998       6\n",
              "1992       2\n",
              "1995       1\n",
              "1994       1\n",
              "1997       1\n",
              "Name: discovery_year, dtype: int64"
            ]
          },
          "metadata": {},
          "execution_count": 9
        }
      ]
    },
    {
      "cell_type": "code",
      "source": [
        "# Plot the above info\n",
        "#(Plot: Count of planets discovered each year)\n",
        "data['discovery_year'].value_counts().plot(kind='barh')"
      ],
      "metadata": {
        "colab": {
          "base_uri": "https://localhost:8080/",
          "height": 284
        },
        "id": "C-ks27my91C_",
        "outputId": "a44d9f99-9a17-43fd-e249-ad512d31d8a7"
      },
      "execution_count": null,
      "outputs": [
        {
          "output_type": "execute_result",
          "data": {
            "text/plain": [
              "<AxesSubplot:>"
            ]
          },
          "metadata": {},
          "execution_count": 10
        },
        {
          "output_type": "display_data",
          "data": {
            "text/plain": [
              "<Figure size 432x288 with 1 Axes>"
            ],
            "image/png": "[encoded data removed]"
          },
          "metadata": {
            "needs_background": "light"
          }
        }
      ]
    },
    {
      "cell_type": "code",
      "source": [
        "# As 2016 has substantially more planets discovered, lets check it out\n",
        "discovered2016 = data['discovery_year'] == 2016\n",
        "data['detection_method'][discovered2016].value_counts()"
      ],
      "metadata": {
        "colab": {
          "base_uri": "https://localhost:8080/"
        },
        "id": "Brnrz8DX95ku",
        "outputId": "62c721be-5183-4297-ac80-337f43cbe1c4"
      },
      "execution_count": null,
      "outputs": [
        {
          "output_type": "execute_result",
          "data": {
            "text/plain": [
              "Transit                        1453\n",
              "Radial Velocity                  50\n",
              "Gravitational Microlensing       10\n",
              "Direct Imaging                    2\n",
              "Transit Timing Variations         1\n",
              "Pulsation Timing Variations       1\n",
              "Name: detection_method, dtype: int64"
            ]
          },
          "metadata": {},
          "execution_count": 11
        }
      ]
    },
    {
      "cell_type": "code",
      "source": [
        "# Plot the above info\n",
        "#(Plot: Count of planets discovered by each detection method in 2016)\n",
        "data['detection_method'][discovered2016].value_counts().plot(kind='barh')"
      ],
      "metadata": {
        "colab": {
          "base_uri": "https://localhost:8080/",
          "height": 283
        },
        "id": "ZTFXtJ_xAkmU",
        "outputId": "464936e1-9ff7-4dc4-eb6e-5ff120400be9"
      },
      "execution_count": null,
      "outputs": [
        {
          "output_type": "execute_result",
          "data": {
            "text/plain": [
              "<AxesSubplot:>"
            ]
          },
          "metadata": {},
          "execution_count": 12
        },
        {
          "output_type": "display_data",
          "data": {
            "text/plain": [
              "<Figure size 432x288 with 1 Axes>"
            ],
            "image/png": "[encoded data removed]"
          },
          "metadata": {
            "needs_background": "light"
          }
        }
      ]
    },
    {
      "cell_type": "code",
      "source": [
        "# Plot the above info\n",
        "#(Plot: Count of all planets discovered by each detection method)\n",
        "data['detection_method'].value_counts().plot(kind='barh')"
      ],
      "metadata": {
        "colab": {
          "base_uri": "https://localhost:8080/",
          "height": 283
        },
        "id": "dXUExZvjGEf8",
        "outputId": "561a04d3-3342-4f53-92d7-5c9dafa6df7a"
      },
      "execution_count": null,
      "outputs": [
        {
          "output_type": "execute_result",
          "data": {
            "text/plain": [
              "<AxesSubplot:>"
            ]
          },
          "metadata": {},
          "execution_count": 13
        },
        {
          "output_type": "display_data",
          "data": {
            "text/plain": [
              "<Figure size 432x288 with 1 Axes>"
            ],
            "image/png": "[encoded data removed]"
          },
          "metadata": {
            "needs_background": "light"
          }
        }
      ]
    },
    {
      "cell_type": "code",
      "source": [
        "# Lets check if any planets are a) terrestrial (i.e, made of rock), b.1) have a comparable mass to earth and within a 10% range i.e. 0.9 or 1.1\n",
        "# They might be still very hot or very cold but we dont have enough information to include possible temperature parameters within this dataset.\n",
        "data_query = data.query('(mass_wrt == \"Earth\" and planet_type == \"Terrestrial\" and mass_multiplier >= 0.9 and mass_multiplier <= 1.1)')\n",
        "print(data_query[['name','distance']].sort_values('distance').set_index('name'))\n"
      ],
      "metadata": {
        "colab": {
          "base_uri": "https://localhost:8080/"
        },
        "id": "iYYcRTvQ58tL",
        "outputId": "38617458-a53b-45e4-f5c4-6de1a3337ab1"
      },
      "execution_count": null,
      "outputs": [
        {
          "output_type": "stream",
          "name": "stdout",
          "text": [
            "                      distance\n",
            "name                          \n",
            "K2-239 c                 101.0\n",
            "K2-136 b                 193.0\n",
            "EPIC 206215704 b         358.0\n",
            "Kepler-1053 b            493.0\n",
            "Kepler-220 d             558.0\n",
            "EPIC 201833600 c         840.0\n",
            "Kepler-1876 b            848.0\n",
            "Kepler-381 b             872.0\n",
            "K2-157 b                 973.0\n",
            "K2-411 b                 973.0\n",
            "Kepler-1800 b           1143.0\n",
            "Kepler-969 c            1273.0\n",
            "EPIC 220492298 b        2037.0\n",
            "Kepler-392 b            2223.0\n",
            "KMT-2020-BLG-0414L b    2610.0\n",
            "Kepler-1328 b           2654.0\n",
            "Kepler-1047 c           2667.0\n",
            "Kepler-1417 b           3235.0\n",
            "Kepler-1464 c           3757.0\n"
          ]
        }
      ]
    },
    {
      "cell_type": "code",
      "source": [
        "# Create a Figure and an Axes with plt.subplots\n",
        "fig, ax = plt.subplots()\n",
        "\n",
        "# Get the detection methods\n",
        "dm = data.groupby(['detection_method', 'discovery_year'])['detection_method'].count() \n",
        "print(dm)\n",
        "\n",
        "# Plot detection_method from data against the discovery_year\n",
        "ax.plot(data[\"discovery_year\"], data[\"detection_method\"])\n",
        "\n",
        "# Plot MLY-PRCP-NORMAL from austin_weather against MONTH\n",
        "#ax.plot(austin_weather[\"MONTH\"], austin_weather[\"MLY-PRCP-NORMAL\"])\n",
        "\n",
        "# Call the show function\n",
        "plt.show()"
      ],
      "metadata": {
        "colab": {
          "base_uri": "https://localhost:8080/",
          "height": 882
        },
        "id": "OCbSWBAj7l5P",
        "outputId": "1b6e02fe-f2e4-4a8e-87dd-ff8b28298d49"
      },
      "execution_count": null,
      "outputs": [
        {
          "output_type": "stream",
          "name": "stdout",
          "text": [
            "detection_method           discovery_year\n",
            "Astrometry                 2013              1\n",
            "                           2022              1\n",
            "Direct Imaging             2004              3\n",
            "                           2005              1\n",
            "                           2006              4\n",
            "                                            ..\n",
            "Transit Timing Variations  2018              1\n",
            "                           2019              3\n",
            "                           2020              1\n",
            "                           2021              1\n",
            "                           2022              2\n",
            "Name: detection_method, Length: 118, dtype: int64\n"
          ]
        },
        {
          "output_type": "error",
          "ename": "ValueError",
          "evalue": "ignored",
          "traceback": [
            "\u001b[0;31m---------------------------------------------------------------------------\u001b[0m",
            "\u001b[0;31mValueError\u001b[0m                                Traceback (most recent call last)",
            "\u001b[0;32m<ipython-input-29-89d28a89caa9>\u001b[0m in \u001b[0;36m<module>\u001b[0;34m\u001b[0m\n\u001b[1;32m      7\u001b[0m \u001b[0;34m\u001b[0m\u001b[0m\n\u001b[1;32m      8\u001b[0m \u001b[0;31m# Plot detection_method from data against the discovery_year\u001b[0m\u001b[0;34m\u001b[0m\u001b[0;34m\u001b[0m\u001b[0;34m\u001b[0m\u001b[0m\n\u001b[0;32m----> 9\u001b[0;31m \u001b[0max\u001b[0m\u001b[0;34m.\u001b[0m\u001b[0mplot\u001b[0m\u001b[0;34m(\u001b[0m\u001b[0mdata\u001b[0m\u001b[0;34m[\u001b[0m\u001b[0;34m\"discovery_year\"\u001b[0m\u001b[0;34m]\u001b[0m\u001b[0;34m,\u001b[0m \u001b[0mdm\u001b[0m\u001b[0;34m)\u001b[0m\u001b[0;34m\u001b[0m\u001b[0;34m\u001b[0m\u001b[0m\n\u001b[0m\u001b[1;32m     10\u001b[0m \u001b[0;34m\u001b[0m\u001b[0m\n\u001b[1;32m     11\u001b[0m \u001b[0;31m# Plot MLY-PRCP-NORMAL from austin_weather against MONTH\u001b[0m\u001b[0;34m\u001b[0m\u001b[0;34m\u001b[0m\u001b[0;34m\u001b[0m\u001b[0m\n",
            "\u001b[0;32m/usr/local/lib/python3.8/dist-packages/matplotlib/axes/_axes.py\u001b[0m in \u001b[0;36mplot\u001b[0;34m(self, scalex, scaley, data, *args, **kwargs)\u001b[0m\n\u001b[1;32m   1633\u001b[0m         \"\"\"\n\u001b[1;32m   1634\u001b[0m         \u001b[0mkwargs\u001b[0m \u001b[0;34m=\u001b[0m \u001b[0mcbook\u001b[0m\u001b[0;34m.\u001b[0m\u001b[0mnormalize_kwargs\u001b[0m\u001b[0;34m(\u001b[0m\u001b[0mkwargs\u001b[0m\u001b[0;34m,\u001b[0m \u001b[0mmlines\u001b[0m\u001b[0;34m.\u001b[0m\u001b[0mLine2D\u001b[0m\u001b[0;34m)\u001b[0m\u001b[0;34m\u001b[0m\u001b[0;34m\u001b[0m\u001b[0m\n\u001b[0;32m-> 1635\u001b[0;31m         \u001b[0mlines\u001b[0m \u001b[0;34m=\u001b[0m \u001b[0;34m[\u001b[0m\u001b[0;34m*\u001b[0m\u001b[0mself\u001b[0m\u001b[0;34m.\u001b[0m\u001b[0m_get_lines\u001b[0m\u001b[0;34m(\u001b[0m\u001b[0;34m*\u001b[0m\u001b[0margs\u001b[0m\u001b[0;34m,\u001b[0m \u001b[0mdata\u001b[0m\u001b[0;34m=\u001b[0m\u001b[0mdata\u001b[0m\u001b[0;34m,\u001b[0m \u001b[0;34m**\u001b[0m\u001b[0mkwargs\u001b[0m\u001b[0;34m)\u001b[0m\u001b[0;34m]\u001b[0m\u001b[0;34m\u001b[0m\u001b[0;34m\u001b[0m\u001b[0m\n\u001b[0m\u001b[1;32m   1636\u001b[0m         \u001b[0;32mfor\u001b[0m \u001b[0mline\u001b[0m \u001b[0;32min\u001b[0m \u001b[0mlines\u001b[0m\u001b[0;34m:\u001b[0m\u001b[0;34m\u001b[0m\u001b[0;34m\u001b[0m\u001b[0m\n\u001b[1;32m   1637\u001b[0m             \u001b[0mself\u001b[0m\u001b[0;34m.\u001b[0m\u001b[0madd_line\u001b[0m\u001b[0;34m(\u001b[0m\u001b[0mline\u001b[0m\u001b[0;34m)\u001b[0m\u001b[0;34m\u001b[0m\u001b[0;34m\u001b[0m\u001b[0m\n",
            "\u001b[0;32m/usr/local/lib/python3.8/dist-packages/matplotlib/axes/_base.py\u001b[0m in \u001b[0;36m__call__\u001b[0;34m(self, data, *args, **kwargs)\u001b[0m\n\u001b[1;32m    310\u001b[0m                 \u001b[0mthis\u001b[0m \u001b[0;34m+=\u001b[0m \u001b[0margs\u001b[0m\u001b[0;34m[\u001b[0m\u001b[0;36m0\u001b[0m\u001b[0;34m]\u001b[0m\u001b[0;34m,\u001b[0m\u001b[0;34m\u001b[0m\u001b[0;34m\u001b[0m\u001b[0m\n\u001b[1;32m    311\u001b[0m                 \u001b[0margs\u001b[0m \u001b[0;34m=\u001b[0m \u001b[0margs\u001b[0m\u001b[0;34m[\u001b[0m\u001b[0;36m1\u001b[0m\u001b[0;34m:\u001b[0m\u001b[0;34m]\u001b[0m\u001b[0;34m\u001b[0m\u001b[0;34m\u001b[0m\u001b[0m\n\u001b[0;32m--> 312\u001b[0;31m             \u001b[0;32myield\u001b[0m \u001b[0;32mfrom\u001b[0m \u001b[0mself\u001b[0m\u001b[0;34m.\u001b[0m\u001b[0m_plot_args\u001b[0m\u001b[0;34m(\u001b[0m\u001b[0mthis\u001b[0m\u001b[0;34m,\u001b[0m \u001b[0mkwargs\u001b[0m\u001b[0;34m)\u001b[0m\u001b[0;34m\u001b[0m\u001b[0;34m\u001b[0m\u001b[0m\n\u001b[0m\u001b[1;32m    313\u001b[0m \u001b[0;34m\u001b[0m\u001b[0m\n\u001b[1;32m    314\u001b[0m     \u001b[0;32mdef\u001b[0m \u001b[0mget_next_color\u001b[0m\u001b[0;34m(\u001b[0m\u001b[0mself\u001b[0m\u001b[0;34m)\u001b[0m\u001b[0;34m:\u001b[0m\u001b[0;34m\u001b[0m\u001b[0;34m\u001b[0m\u001b[0m\n",
            "\u001b[0;32m/usr/local/lib/python3.8/dist-packages/matplotlib/axes/_base.py\u001b[0m in \u001b[0;36m_plot_args\u001b[0;34m(self, tup, kwargs, return_kwargs)\u001b[0m\n\u001b[1;32m    496\u001b[0m \u001b[0;34m\u001b[0m\u001b[0m\n\u001b[1;32m    497\u001b[0m         \u001b[0;32mif\u001b[0m \u001b[0mx\u001b[0m\u001b[0;34m.\u001b[0m\u001b[0mshape\u001b[0m\u001b[0;34m[\u001b[0m\u001b[0;36m0\u001b[0m\u001b[0;34m]\u001b[0m \u001b[0;34m!=\u001b[0m \u001b[0my\u001b[0m\u001b[0;34m.\u001b[0m\u001b[0mshape\u001b[0m\u001b[0;34m[\u001b[0m\u001b[0;36m0\u001b[0m\u001b[0;34m]\u001b[0m\u001b[0;34m:\u001b[0m\u001b[0;34m\u001b[0m\u001b[0;34m\u001b[0m\u001b[0m\n\u001b[0;32m--> 498\u001b[0;31m             raise ValueError(f\"x and y must have same first dimension, but \"\n\u001b[0m\u001b[1;32m    499\u001b[0m                              f\"have shapes {x.shape} and {y.shape}\")\n\u001b[1;32m    500\u001b[0m         \u001b[0;32mif\u001b[0m \u001b[0mx\u001b[0m\u001b[0;34m.\u001b[0m\u001b[0mndim\u001b[0m \u001b[0;34m>\u001b[0m \u001b[0;36m2\u001b[0m \u001b[0;32mor\u001b[0m \u001b[0my\u001b[0m\u001b[0;34m.\u001b[0m\u001b[0mndim\u001b[0m \u001b[0;34m>\u001b[0m \u001b[0;36m2\u001b[0m\u001b[0;34m:\u001b[0m\u001b[0;34m\u001b[0m\u001b[0;34m\u001b[0m\u001b[0m\n",
            "\u001b[0;31mValueError\u001b[0m: x and y must have same first dimension, but have shapes (5250,) and (118,)"
          ]
        },
        {
          "output_type": "display_data",
          "data": {
            "text/plain": [
              "<Figure size 432x288 with 1 Axes>"
            ],
            "image/png": "[encoded data removed]"
          },
          "metadata": {
            "needs_background": "light"
          }
        }
      ]
    },
    {
      "cell_type": "markdown",
      "source": [
        "Insights:\n",
        "\n",
        "\n",
        "1.   2016 is the greatest year for planet discovery.\n",
        "2.   The 'Transit' detection system is the superior (or most prefered) method of detection. \n",
        "3.   SWEEPS 4 b & 11 b are two exoplanets discovred in 2006, they currently the furthest known exoplanets from earth at 27,727 light years away\n",
        "4.   Planets that may be habitable based on my crude assumption about comparisons with Earth\n",
        "5.   In 2016, t\n",
        "\n"
      ],
      "metadata": {
        "id": "Ld9tUH2tAxOS"
      }
    }
  ]
}